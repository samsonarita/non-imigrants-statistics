{
 "cells": [
  {
   "cell_type": "markdown",
   "metadata": {
    "editable": true
   },
   "source": [
    "# Non-immigrants' Statistics\n",
    "\n",
    "### Data Engineering Capstone Project\n",
    "\n",
    "#### Project Summary\n",
    "\n",
    "The project \"Non-immigrants' Statistics\" collects data from different sources in order to determine the non-immigrants' trends in US states.    \n",
    "The data would give the ability to analyze the trends around non-immigrants while showing the influx and efflux of induviduals within the American states.       \n",
    "\n",
    "The project follows the following steps:\n",
    "* Step 1: Scope the Project and Gather Data\n",
    "* Step 2: Explore and Assess the Data\n",
    "* Step 3: Define the Data Model\n",
    "* Step 4: Run ETL to Model the Data\n",
    "* Step 5: Complete Project Write Up"
   ]
  },
  {
   "cell_type": "code",
   "execution_count": 1,
   "metadata": {
    "editable": true
   },
   "outputs": [],
   "source": [
    "from pyspark.sql import SparkSession\n",
    "#from pyspark.sql.functions import udf, desc, asc, sum\n",
    "from pyspark.sql.functions import *\n",
    "from pyspark.sql.types import StringType, IntegerType, DateType\n",
    "import datetime\n",
    "\n",
    "import numpy as np\n",
    "import pandas as pd\n",
    "%matplotlib inline\n",
    "import matplotlib.pyplot as plt"
   ]
  },
  {
   "cell_type": "code",
   "execution_count": 2,
   "metadata": {
    "editable": true
   },
   "outputs": [],
   "source": [
    "spark = SparkSession \\\n",
    "    .builder \\\n",
    "    .appName(\"Non-immigrants' Trends\") \\\n",
    "    .getOrCreate()"
   ]
  },
  {
   "cell_type": "markdown",
   "metadata": {
    "editable": true
   },
   "source": [
    "### Step 1: Scope the Project and Gather Data\n",
    "\n",
    "<!--#### Scope \n",
    "Explain what you plan to do in the project in more detail. What data do you use? What is your end solution look like? What tools did you use? etc> -->\n",
    "\n",
    "\n",
    "##### Problem Statement\n",
    "\n",
    "In order to analyze the non-immigrants' trends, the bellow questions can be answered with the data:    \n",
    "1. Where do most U.S. non-immigrants visit/live?\n",
    "2. Who is arriving today? (By race/ethnicity/gender)\n",
    "3. Where do non-immigrants come from?\n",
    "4. How many people in the U.S. are non-immigrants? \n",
    "\n",
    "##### The choice of tools, technologies\n",
    "\n",
    "1. Spark (on an AWS - EMR Cluster) - To extract and transform the collected data from the data sources and write to S3 bucket.\n",
    "2. S3 bucket - To store the processed data model into parquet files of dimensions and fact tables\n",
    "3. Airflow (Deployed on AWS - E2 with a docker instance) - To create and run the ETL/ELT pipeline\n",
    "4. AWS Athena - To read processed data from S3 from dimensions and fact tables in parquet files for analysis\n",
    "\n",
    "<!--#### Describe and Gather Data \n",
    "Describe the data sets you're using. Where did it come from? What type of information is included? -->\n",
    "\n",
    "##### Data Sources\n",
    "\n",
    "- I94 Immigration Data: This data comes from the US National Tourism and Trade Office. A data dictionary is included in the workspace. [This](https://travel.trade.gov/research/reports/i94/historical/2016.html) is where the data comes from. There's a sample file so you can take a look at the data in csv format before reading it all in. You do not have to use the entire dataset, just use what you need to accomplish the goal you set at the beginning of the project.    \n",
    "- World Temperature Data: This dataset came from Kaggle. You can read more about it [here](https://www.kaggle.com/berkeleyearth/climate-change-earth-surface-temperature-data).    \n",
    "- U.S. City Demographic Data: This data comes from OpenSoft. You can read more about it [here](https://public.opendatasoft.com/explore/dataset/us-cities-demographics/export/).    \n",
    "- Airport Code Table: This is a simple table of airport codes and corresponding cities. It comes from [here](https://datahub.io/core/airport-codes#data).\n",
    "\n",
    "##### Data Files\n",
    "\n",
    "- airport-codes_csv.csv - Airport Code Table    \n",
    "- I94_SAS_Labels_Descriptions.SAS - I94 Immigration Data (Labels Descriptions)    \n",
    "- us-cities-demographics.csv - U.S. City Demographic Data    \n",
    "- immigration_data_sample.csv - I94 Immigration Data (Data Sample with 1000 records)    \n",
    "- sas_data - I94 Immigration Data (In Parquet files) (Over 3 million records)    \n",
    "\n",
    "\n"
   ]
  },
  {
   "cell_type": "code",
   "execution_count": 3,
   "metadata": {
    "editable": true
   },
   "outputs": [],
   "source": [
    "airport_codes_df=spark.read.csv(\"airport-codes_csv.csv\", header='true', inferSchema='true')"
   ]
  },
  {
   "cell_type": "code",
   "execution_count": 4,
   "metadata": {
    "editable": true
   },
   "outputs": [],
   "source": [
    "us_cities_demographics_df=spark.read.option(\"delimiter\", ';').csv(\"us-cities-demographics.csv\", header='true', inferSchema='true')"
   ]
  },
  {
   "cell_type": "code",
   "execution_count": 5,
   "metadata": {
    "editable": true
   },
   "outputs": [],
   "source": [
    "immigration_sample_df=spark.read.csv(\"immigration_data_sample.csv\", header='true', inferSchema='true')"
   ]
  },
  {
   "cell_type": "code",
   "execution_count": 6,
   "metadata": {
    "editable": true
   },
   "outputs": [],
   "source": [
    "immigration_df=spark.read.parquet(\"sas_data\")"
   ]
  },
  {
   "cell_type": "markdown",
   "metadata": {
    "editable": true
   },
   "source": [
    "### Step 2: Explore and Assess the Data\n",
    "<!-- #### Explore the Data \n",
    "Identify data quality issues, like missing values, duplicate data, etc. -->\n",
    "\n",
    "#### Cleaning Steps\n",
    "<!-- Document steps necessary to clean the data -->\n",
    "\n",
    "The loaded data are from different formats, comma delimmited csv, semicolon delimitted csv and parquet file format\n"
   ]
  },
  {
   "cell_type": "code",
   "execution_count": 7,
   "metadata": {
    "editable": true
   },
   "outputs": [
    {
     "name": "stdout",
     "output_type": "stream",
     "text": [
      "root\n",
      " |-- ident: string (nullable = true)\n",
      " |-- iso_country: string (nullable = true)\n",
      " |-- iso_region: string (nullable = true)\n",
      " |-- name: string (nullable = true)\n",
      " |-- type: string (nullable = true)\n",
      "\n",
      "+-----+-----------+----------+--------------------+-------------+\n",
      "|ident|iso_country|iso_region|                name|         type|\n",
      "+-----+-----------+----------+--------------------+-------------+\n",
      "|  00A|         US|     US-PA|   Total Rf Heliport|     heliport|\n",
      "| 00AA|         US|     US-KS|Aero B Ranch Airport|small_airport|\n",
      "| 00AK|         US|     US-AK|        Lowell Field|small_airport|\n",
      "| 00AL|         US|     US-AL|        Epps Airpark|small_airport|\n",
      "| 00AR|         US|     US-AR|Newport Hospital ...|       closed|\n",
      "+-----+-----------+----------+--------------------+-------------+\n",
      "only showing top 5 rows\n",
      "\n"
     ]
    },
    {
     "data": {
      "text/plain": [
       "55075"
      ]
     },
     "execution_count": 7,
     "metadata": {},
     "output_type": "execute_result"
    }
   ],
   "source": [
    "airport_codes = airport_codes_df.select(['ident','iso_country','iso_region','name','type'])\n",
    "airport_codes.printSchema()\n",
    "airport_codes.show(5)\n",
    "airport_codes.count()"
   ]
  },
  {
   "cell_type": "code",
   "execution_count": 15,
   "metadata": {
    "editable": true
   },
   "outputs": [
    {
     "name": "stdout",
     "output_type": "stream",
     "text": [
      "+-------------+-------------+-------+--------+-------+---------+----+-----+-----+----------+------------------+-----+\n",
      "|         city|        state|med_age|male_pop|fem_pop|total_pop|vets|fborn|hsize|state_code|              race|count|\n",
      "+-------------+-------------+-------+--------+-------+---------+----+-----+-----+----------+------------------+-----+\n",
      "|Silver Spring|     Maryland|   33.8|   40601|  41862|    82463|1562|30908|  2.6|        MD|Hispanic or Latino|25924|\n",
      "|       Quincy|Massachusetts|   41.0|   44129|  49500|    93629|4147|32935| 2.39|        MA|             White|58723|\n",
      "+-------------+-------------+-------+--------+-------+---------+----+-----+-----+----------+------------------+-----+\n",
      "only showing top 2 rows\n",
      "\n",
      "root\n",
      " |-- city: string (nullable = true)\n",
      " |-- state: string (nullable = true)\n",
      " |-- med_age: double (nullable = true)\n",
      " |-- male_pop: integer (nullable = true)\n",
      " |-- fem_pop: integer (nullable = true)\n",
      " |-- total_pop: integer (nullable = true)\n",
      " |-- vets: integer (nullable = true)\n",
      " |-- fborn: integer (nullable = true)\n",
      " |-- hsize: double (nullable = true)\n",
      " |-- state_code: string (nullable = true)\n",
      " |-- race: string (nullable = true)\n",
      " |-- count: integer (nullable = true)\n",
      "\n"
     ]
    },
    {
     "data": {
      "text/plain": [
       "2891"
      ]
     },
     "execution_count": 15,
     "metadata": {},
     "output_type": "execute_result"
    }
   ],
   "source": [
    "#us_cities_demographics_df.select(['City','State','State Code','Median Age','Race','Male Population','Female Population','Foreign-born','Total Population']).show(2)\n",
    "us_cities_demographics = us_cities_demographics_df.select(col(\"City\").alias(\"city\"),\n",
    "  col(\"State\").alias(\"state\"),\n",
    "  col(\"Median Age\").alias(\"med_age\"),\n",
    "  col(\"Male Population\").alias(\"male_pop\"),\n",
    "  col(\"Female Population\").alias(\"fem_pop\"),\n",
    "  col(\"Total Population\").alias(\"total_pop\"),\n",
    "  col(\"Number of Veterans\").alias(\"vets\"),\n",
    "  col(\"Foreign-born\").alias(\"fborn\"),\n",
    "  col(\"Average Household Size\").alias(\"hsize\"),\n",
    "  col(\"State Code\").alias(\"state_code\"),\n",
    "  col(\"Race\").alias(\"race\"),\n",
    "  col(\"Count\").alias(\"count\"))\n",
    "us_cities_demographics.show(2)\n",
    "us_cities_demographics.printSchema()\n",
    "us_cities_demographics.count()"
   ]
  },
  {
   "cell_type": "code",
   "execution_count": 16,
   "metadata": {
    "editable": true
   },
   "outputs": [
    {
     "name": "stdout",
     "output_type": "stream",
     "text": [
      "+---------------+---------+------+------+-------+-------+-------+------+------+-------+-------+-------+------+--------+------+-------+-------+--------+--------+\n",
      "|         admnum|    cicid|i94cit|i94res|i94port|i94mode|i94addr| i94yr|i94mon|arrdate|i94mode|depdate|gender|visatype|i94bir|biryear|i94visa|dtadfile| dtaddto|\n",
      "+---------------+---------+------+------+-------+-------+-------+------+------+-------+-------+-------+------+--------+------+-------+-------+--------+--------+\n",
      "|5.6582674633E10|4084316.0| 209.0| 209.0|    HHW|    1.0|     HI|2016.0|   4.0|20566.0|    1.0|20573.0|     F|      WT|  61.0| 1955.0|    2.0|20160422|07202016|\n",
      "| 9.436199593E10|4422636.0| 582.0| 582.0|    MCA|    1.0|     TX|2016.0|   4.0|20567.0|    1.0|20568.0|     M|      B2|  26.0| 1990.0|    2.0|20160423|10222016|\n",
      "+---------------+---------+------+------+-------+-------+-------+------+------+-------+-------+-------+------+--------+------+-------+-------+--------+--------+\n",
      "only showing top 2 rows\n",
      "\n",
      "+-------+---------+------+------+------+------+-------+-------+-------+-------+-------+------+-------+-----+--------+--------+-----+-------+-------+-------+-------+-------+--------+------+------+-------+---------------+-----+--------+\n",
      "|    _c0|    cicid| i94yr|i94mon|i94cit|i94res|i94port|arrdate|i94mode|i94addr|depdate|i94bir|i94visa|count|dtadfile|visapost|occup|entdepa|entdepd|entdepu|matflag|biryear| dtaddto|gender|insnum|airline|         admnum|fltno|visatype|\n",
      "+-------+---------+------+------+------+------+-------+-------+-------+-------+-------+------+-------+-----+--------+--------+-----+-------+-------+-------+-------+-------+--------+------+------+-------+---------------+-----+--------+\n",
      "|2027561|4084316.0|2016.0|   4.0| 209.0| 209.0|    HHW|20566.0|    1.0|     HI|20573.0|  61.0|    2.0|  1.0|20160422|    null| null|      G|      O|   null|      M| 1955.0|07202016|     F|  null|     JL|5.6582674633E10|00782|      WT|\n",
      "|2171295|4422636.0|2016.0|   4.0| 582.0| 582.0|    MCA|20567.0|    1.0|     TX|20568.0|  26.0|    2.0|  1.0|20160423|     MTR| null|      G|      R|   null|      M| 1990.0|10222016|     M|  null|    *GA| 9.436199593E10|XBLNG|      B2|\n",
      "+-------+---------+------+------+------+------+-------+-------+-------+-------+-------+------+-------+-----+--------+--------+-----+-------+-------+-------+-------+-------+--------+------+------+-------+---------------+-----+--------+\n",
      "only showing top 2 rows\n",
      "\n",
      "root\n",
      " |-- _c0: integer (nullable = true)\n",
      " |-- cicid: double (nullable = true)\n",
      " |-- i94yr: double (nullable = true)\n",
      " |-- i94mon: double (nullable = true)\n",
      " |-- i94cit: double (nullable = true)\n",
      " |-- i94res: double (nullable = true)\n",
      " |-- i94port: string (nullable = true)\n",
      " |-- arrdate: double (nullable = true)\n",
      " |-- i94mode: double (nullable = true)\n",
      " |-- i94addr: string (nullable = true)\n",
      " |-- depdate: double (nullable = true)\n",
      " |-- i94bir: double (nullable = true)\n",
      " |-- i94visa: double (nullable = true)\n",
      " |-- count: double (nullable = true)\n",
      " |-- dtadfile: integer (nullable = true)\n",
      " |-- visapost: string (nullable = true)\n",
      " |-- occup: string (nullable = true)\n",
      " |-- entdepa: string (nullable = true)\n",
      " |-- entdepd: string (nullable = true)\n",
      " |-- entdepu: string (nullable = true)\n",
      " |-- matflag: string (nullable = true)\n",
      " |-- biryear: double (nullable = true)\n",
      " |-- dtaddto: string (nullable = true)\n",
      " |-- gender: string (nullable = true)\n",
      " |-- insnum: integer (nullable = true)\n",
      " |-- airline: string (nullable = true)\n",
      " |-- admnum: double (nullable = true)\n",
      " |-- fltno: string (nullable = true)\n",
      " |-- visatype: string (nullable = true)\n",
      "\n"
     ]
    },
    {
     "data": {
      "text/plain": [
       "1000"
      ]
     },
     "execution_count": 16,
     "metadata": {},
     "output_type": "execute_result"
    }
   ],
   "source": [
    "immigration_sample_df.select(['admnum','cicid','i94cit','i94res','i94port','i94mode','i94addr','i94yr','i94mon','arrdate','i94mode','depdate','gender','visatype','i94bir','biryear','i94visa','dtadfile','dtaddto']).show(2)\n",
    "immigration_sample_df.show(2)\n",
    "immigration_sample_df.printSchema()\n",
    "immigration_sample_df.count()"
   ]
  },
  {
   "cell_type": "code",
   "execution_count": 10,
   "metadata": {
    "editable": true
   },
   "outputs": [
    {
     "name": "stdout",
     "output_type": "stream",
     "text": [
      "+--------------+---------+------+------+-------+-------+-------+\n",
      "|        admnum|    cicid|i94cit|i94res|i94port|i94mode|i94addr|\n",
      "+--------------+---------+------+------+-------+-------+-------+\n",
      "|9.495387003E10|5748517.0| 245.0| 438.0|    LOS|    1.0|     CA|\n",
      "|9.495562283E10|5748518.0| 245.0| 438.0|    LOS|    1.0|     NV|\n",
      "+--------------+---------+------+------+-------+-------+-------+\n",
      "only showing top 2 rows\n",
      "\n",
      "+------+------+-------+-------+-------+------+--------+------+-------+-------+--------+--------+\n",
      "| i94yr|i94mon|arrdate|i94mode|depdate|gender|visatype|i94bir|biryear|i94visa|dtadfile| dtaddto|\n",
      "+------+------+-------+-------+-------+------+--------+------+-------+-------+--------+--------+\n",
      "|2016.0|   4.0|20574.0|    1.0|20582.0|     F|      B1|  40.0| 1976.0|    1.0|20160430|10292016|\n",
      "|2016.0|   4.0|20574.0|    1.0|20591.0|     F|      B1|  32.0| 1984.0|    1.0|20160430|10292016|\n",
      "+------+------+-------+-------+-------+------+--------+------+-------+-------+--------+--------+\n",
      "only showing top 2 rows\n",
      "\n",
      "+---------+------+------+------+------+-------+-------+-------+-------+-------+------+-------+-----+--------+--------+-----+-------+-------+-------+-------+-------+--------+------+------+-------+--------------+-----+--------+\n",
      "|    cicid| i94yr|i94mon|i94cit|i94res|i94port|arrdate|i94mode|i94addr|depdate|i94bir|i94visa|count|dtadfile|visapost|occup|entdepa|entdepd|entdepu|matflag|biryear| dtaddto|gender|insnum|airline|        admnum|fltno|visatype|\n",
      "+---------+------+------+------+------+-------+-------+-------+-------+-------+------+-------+-----+--------+--------+-----+-------+-------+-------+-------+-------+--------+------+------+-------+--------------+-----+--------+\n",
      "|5748517.0|2016.0|   4.0| 245.0| 438.0|    LOS|20574.0|    1.0|     CA|20582.0|  40.0|    1.0|  1.0|20160430|     SYD| null|      G|      O|   null|      M| 1976.0|10292016|     F|  null|     QF|9.495387003E10|00011|      B1|\n",
      "+---------+------+------+------+------+-------+-------+-------+-------+-------+------+-------+-----+--------+--------+-----+-------+-------+-------+-------+-------+--------+------+------+-------+--------------+-----+--------+\n",
      "only showing top 1 row\n",
      "\n",
      "root\n",
      " |-- cicid: double (nullable = true)\n",
      " |-- i94yr: double (nullable = true)\n",
      " |-- i94mon: double (nullable = true)\n",
      " |-- i94cit: double (nullable = true)\n",
      " |-- i94res: double (nullable = true)\n",
      " |-- i94port: string (nullable = true)\n",
      " |-- arrdate: double (nullable = true)\n",
      " |-- i94mode: double (nullable = true)\n",
      " |-- i94addr: string (nullable = true)\n",
      " |-- depdate: double (nullable = true)\n",
      " |-- i94bir: double (nullable = true)\n",
      " |-- i94visa: double (nullable = true)\n",
      " |-- count: double (nullable = true)\n",
      " |-- dtadfile: string (nullable = true)\n",
      " |-- visapost: string (nullable = true)\n",
      " |-- occup: string (nullable = true)\n",
      " |-- entdepa: string (nullable = true)\n",
      " |-- entdepd: string (nullable = true)\n",
      " |-- entdepu: string (nullable = true)\n",
      " |-- matflag: string (nullable = true)\n",
      " |-- biryear: double (nullable = true)\n",
      " |-- dtaddto: string (nullable = true)\n",
      " |-- gender: string (nullable = true)\n",
      " |-- insnum: string (nullable = true)\n",
      " |-- airline: string (nullable = true)\n",
      " |-- admnum: double (nullable = true)\n",
      " |-- fltno: string (nullable = true)\n",
      " |-- visatype: string (nullable = true)\n",
      "\n"
     ]
    },
    {
     "data": {
      "text/plain": [
       "3096313"
      ]
     },
     "execution_count": 10,
     "metadata": {},
     "output_type": "execute_result"
    }
   ],
   "source": [
    "immigration_df.select(['admnum','cicid','i94cit','i94res','i94port','i94mode','i94addr']).show(2)\n",
    "immigration_df.select(['i94yr','i94mon','arrdate','i94mode','depdate','gender','visatype','i94bir','biryear','i94visa','dtadfile','dtaddto']).show(2)\n",
    "immigration_df.show(1)\n",
    "immigration_df.printSchema()\n",
    "immigration_df.count()"
   ]
  },
  {
   "cell_type": "markdown",
   "metadata": {
    "editable": true
   },
   "source": [
    "### Step 3: Define the Data Model\n",
    "#### 3.1 Conceptual Data Model\n",
    "Map out the conceptual data model and explain why you chose that model\n",
    "\n",
    "#### 3.2 Mapping Out Data Pipelines\n",
    "List the steps necessary to pipeline the data into the chosen data model"
   ]
  },
  {
   "cell_type": "markdown",
   "metadata": {
    "editable": true
   },
   "source": [
    "### Step 4: Run Pipelines to Model the Data \n",
    "#### 4.1 Create the data model\n",
    "Build the data pipelines to create the data model."
   ]
  },
  {
   "cell_type": "code",
   "execution_count": 11,
   "metadata": {
    "editable": true
   },
   "outputs": [],
   "source": [
    "# Write code here"
   ]
  },
  {
   "cell_type": "markdown",
   "metadata": {
    "editable": true
   },
   "source": [
    "#### 4.2 Data Quality Checks\n",
    "Explain the data quality checks you'll perform to ensure the pipeline ran as expected. These could include:\n",
    " * Integrity constraints on the relational database (e.g., unique key, data type, etc.)\n",
    " * Unit tests for the scripts to ensure they are doing the right thing\n",
    " * Source/Count checks to ensure completeness\n",
    " \n",
    "Run Quality Checks"
   ]
  },
  {
   "cell_type": "code",
   "execution_count": 12,
   "metadata": {
    "editable": true
   },
   "outputs": [],
   "source": [
    "# Perform quality checks here"
   ]
  },
  {
   "cell_type": "markdown",
   "metadata": {
    "editable": true
   },
   "source": [
    "#### 4.3 Data dictionary \n",
    "Create a data dictionary for your data model. For each field, provide a brief description of what the data is and where it came from. You can include the data dictionary in the notebook or in a separate file."
   ]
  },
  {
   "cell_type": "markdown",
   "metadata": {
    "editable": true
   },
   "source": [
    "#### Step 5: Complete Project Write Up\n",
    "* Clearly state the rationale for the choice of tools and technologies for the project.\n",
    "* Propose how often the data should be updated and why.\n",
    "* Write a description of how you would approach the problem differently under the following scenarios:\n",
    " * The data was increased by 100x.\n",
    " * The data populates a dashboard that must be updated on a daily basis by 7am every day.\n",
    " * The database needed to be accessed by 100+ people."
   ]
  },
  {
   "cell_type": "code",
   "execution_count": null,
   "metadata": {
    "editable": true
   },
   "outputs": [],
   "source": []
  },
  {
   "cell_type": "code",
   "execution_count": null,
   "metadata": {
    "editable": true
   },
   "outputs": [],
   "source": []
  },
  {
   "cell_type": "code",
   "execution_count": null,
   "metadata": {
    "editable": true
   },
   "outputs": [],
   "source": []
  },
  {
   "cell_type": "code",
   "execution_count": null,
   "metadata": {
    "editable": true
   },
   "outputs": [],
   "source": []
  },
  {
   "cell_type": "code",
   "execution_count": null,
   "metadata": {
    "editable": true
   },
   "outputs": [],
   "source": []
  },
  {
   "cell_type": "code",
   "execution_count": null,
   "metadata": {
    "editable": true
   },
   "outputs": [],
   "source": []
  }
 ],
 "metadata": {
  "kernelspec": {
   "display_name": "Python 3",
   "language": "python",
   "name": "python3"
  },
  "language_info": {
   "codemirror_mode": {
    "name": "ipython",
    "version": 3
   },
   "file_extension": ".py",
   "mimetype": "text/x-python",
   "name": "python",
   "nbconvert_exporter": "python",
   "pygments_lexer": "ipython3",
   "version": "3.6.3"
  }
 },
 "nbformat": 4,
 "nbformat_minor": 4
}
